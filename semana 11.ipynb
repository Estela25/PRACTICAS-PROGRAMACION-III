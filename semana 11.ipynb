{
  "cells": [
    {
      "cell_type": "markdown",
      "metadata": {
        "id": "view-in-github",
        "colab_type": "text"
      },
      "source": [
        "<a href=\"https://colab.research.google.com/github/Estela25/PRACTICAS-PROGRAMACION-III/blob/main/semana%2011.ipynb\" target=\"_parent\"><img src=\"https://colab.research.google.com/assets/colab-badge.svg\" alt=\"Open In Colab\"/></a>"
      ]
    },
    {
      "cell_type": "code",
      "source": [
        "#1. importar las librerias\n",
        "import tensorflow as tf\n",
        "import matplotlib.pyplot as plt\n",
        "import numpy as np\n",
        "import math\n",
        "import tensorflow_datasets as tfds"
      ],
      "metadata": {
        "id": "r0wD23W4Sbi9"
      },
      "execution_count": 17,
      "outputs": []
    },
    {
      "cell_type": "code",
      "source": [
        "#2. cargamos dataset en variables\n",
        "dataset , metadata = tfds.load(\"mnist\", as_supervised=True, with_info=True)\n",
        "datos_entrenamiento, datos_prueba = dataset[\"train\"], dataset[\"test\"]\n",
        "print(datos_entrenamiento)"
      ],
      "metadata": {
        "colab": {
          "base_uri": "https://localhost:8080/"
        },
        "id": "aGBnS5njTh-R",
        "outputId": "803956a5-7918-4231-d9b4-6f2d877fa6bc"
      },
      "execution_count": 18,
      "outputs": [
        {
          "output_type": "stream",
          "name": "stdout",
          "text": [
            "<PrefetchDataset element_spec=(TensorSpec(shape=(28, 28, 1), dtype=tf.uint8, name=None), TensorSpec(shape=(), dtype=tf.int64, name=None))>\n"
          ]
        }
      ]
    },
    {
      "cell_type": "code",
      "source": [
        "#3. \n",
        "numeros_letras = [\"cero\", \"uno\", \"dos\", \"tres\", \"custro\", \"cinco\", \n",
        " \"seix\", \"siete\", \"ocho\", \"nueve\"\n",
        "]"
      ],
      "metadata": {
        "id": "GwrMKdCMWO9h"
      },
      "execution_count": 19,
      "outputs": []
    },
    {
      "cell_type": "code",
      "source": [
        "#4. pasar en variable los datos de entrenamiento y pruebas\n",
        "print(metadata.splits)\n",
        "numeros_ejemplo_entrenamiento = metadata.splits[\"train\"].num_examples\n",
        "numeros_ejemplo_prueba = metadata.splits[\"test\"].num_examples"
      ],
      "metadata": {
        "colab": {
          "base_uri": "https://localhost:8080/"
        },
        "id": "98MrIZ6iW5nw",
        "outputId": "e9ff67bb-6fd0-4cb5-9f41-dc6d3df0e721"
      },
      "execution_count": 24,
      "outputs": [
        {
          "output_type": "stream",
          "name": "stdout",
          "text": [
            "{'test': <SplitInfo num_examples=10000, num_shards=1>, 'train': <SplitInfo num_examples=60000, num_shards=1>}\n"
          ]
        }
      ]
    },
    {
      "cell_type": "code",
      "source": [
        "#5. funcion normalizadora de pixeles\n",
        "def normalizacion(img, labels):\n",
        "  img = tf.cast(img, tf.float32)\n",
        "  img /= 255 #150/255 = 0.58\n",
        "  return img, labels"
      ],
      "metadata": {
        "id": "3btfCLJpX6ng"
      },
      "execution_count": 25,
      "outputs": []
    },
    {
      "cell_type": "code",
      "source": [
        "#6. llamamos la funcion normalizadora \n",
        "\"\"\"for img, label in datos_entrenamiento.take(1):\n",
        "  print( img.numpy()/255 )\n",
        "\"\"\"\n",
        "daptos_entremaniento = datos_entrenamiento.map(normalizacion)\n",
        "datos_prueba = datos_prueba.map(normalizacion)"
      ],
      "metadata": {
        "id": "N30_v3qhY_g-"
      },
      "execution_count": 26,
      "outputs": []
    },
    {
      "cell_type": "code",
      "source": [
        "#7. estructuramos la red\n",
        "modelo = tf.keras.Sequential([\n",
        "    tf.keras.layers.Flatten(input_shape=(28,28,1)), #capa de entrada de 28*28*1 canal\n",
        "    tf.keras.layers.Dense(64, activation=tf.nn.relu), #capa oculta con 64 neuronas, con la funcion de activacion RELU, nos da valores entre 0 y 1\n",
        "    tf.keras.layers.Dense(64, activation=tf.nn.relu), #capa oculta con 64 neuronas, con la funcion de activacion RELU, nos da valores entre 0 y 1\n",
        "    tf.keras.layers.Dense(10, activation=tf.nn.softmax) #capa de salida con 10 neuronas, con la funcion de activacion softmax es exclusiva para clasificacion de imagenes\n",
        "])"
      ],
      "metadata": {
        "id": "_Ed74iVTZdAi"
      },
      "execution_count": 27,
      "outputs": []
    },
    {
      "cell_type": "code",
      "source": [
        "#8. copilamos el modelo \n",
        "modelo.compile(\n",
        "    optimizer = \"adam\",\n",
        "    loss = \"sparse_categorical_crossentropy\",\n",
        "    metrics = [\"accuracy\"]\n",
        ")"
      ],
      "metadata": {
        "id": "Xip34i4Womz4"
      },
      "execution_count": 29,
      "outputs": []
    },
    {
      "cell_type": "code",
      "source": [
        "#9. entrenamiento por lote \n",
        "size_lote = 32\n",
        "datos_entrenamiento = datos_entrenamiento.repeat().shuffle(numeros_ejemplo_entrenamiento).batch(size_lote)\n",
        "datos_prueba = datos_prueba.repeat().shuffle(numeros_ejemplo_prueba).batch(size_lote)"
      ],
      "metadata": {
        "id": "hI4DSNj9tJdG"
      },
      "execution_count": 30,
      "outputs": []
    },
    {
      "cell_type": "code",
      "source": [
        "#10. realizamos el entrenamiento\n",
        "modelo.fit(datos_entrenamiento, epochs=5, steps_per_epoch=math.ceil(numeros_ejemplo_entrenamiento/size_lote))"
      ],
      "metadata": {
        "id": "Kj8M4By-uqD2",
        "outputId": "9be5cc63-0eef-4216-9164-3011e290f46b",
        "colab": {
          "base_uri": "https://localhost:8080/"
        }
      },
      "execution_count": 31,
      "outputs": [
        {
          "output_type": "stream",
          "name": "stdout",
          "text": [
            "Epoch 1/5\n",
            "1875/1875 [==============================] - 9s 3ms/step - loss: 1.5101 - accuracy: 0.8019\n",
            "Epoch 2/5\n",
            "1875/1875 [==============================] - 4s 2ms/step - loss: 0.3869 - accuracy: 0.9013\n",
            "Epoch 3/5\n",
            "1875/1875 [==============================] - 4s 2ms/step - loss: 0.3166 - accuracy: 0.9180\n",
            "Epoch 4/5\n",
            "1875/1875 [==============================] - 4s 2ms/step - loss: 0.2643 - accuracy: 0.9316\n",
            "Epoch 5/5\n",
            "1875/1875 [==============================] - 4s 2ms/step - loss: 0.2168 - accuracy: 0.9414\n"
          ]
        },
        {
          "output_type": "execute_result",
          "data": {
            "text/plain": [
              "<keras.callbacks.History at 0x7f11c7875510>"
            ]
          },
          "metadata": {},
          "execution_count": 31
        }
      ]
    },
    {
      "cell_type": "code",
      "source": [
        "#11. evaluacion de aprendisaje \n",
        "test_loss, test_accuracy = modelo.evaluate(datos_prueba, steps=math.ceil(numeros_ejemplo_prueba/size_lote))\n",
        "print(\"resultados de la prueba\", test_loss, test_accuracy)"
      ],
      "metadata": {
        "id": "ynrch1Qlw76m",
        "outputId": "eecef7bc-1123-4c48-d0cd-591d71c3e3e8",
        "colab": {
          "base_uri": "https://localhost:8080/"
        }
      },
      "execution_count": 32,
      "outputs": [
        {
          "output_type": "stream",
          "name": "stdout",
          "text": [
            "313/313 [==============================] - 2s 4ms/step - loss: 2.4466 - accuracy: 0.0988\n",
            "resultados de la prueba 2.4465622901916504 0.09884185343980789\n"
          ]
        }
      ]
    },
    {
      "cell_type": "code",
      "source": [
        "#13, 15. hacer una prediccion\n",
        "i=0\n",
        "for miImg, etiqueta in datos_entrenamiento.take(1):\n",
        "  etiqueta = etiqueta.numpy()\n",
        "  img = miImg[i].numpy().reshape(1,28,28,1)\n",
        "  prediccion = modelo.predict(img, batch_size=1)\n",
        "\n",
        "  valor_predicho = np.argmax(prediccion)\n",
        "  print(valor_predicho, etiqueta[i])\n",
        "\n",
        "  plt.grid(False)\n",
        "  plt.imshow(img[0,...,0], cmap=plt.cm.binary)\n",
        "  plt.xlabel(\"prediccion: {}\" .format(numeros_letras[valor_predicho]), color=\"green\")\n"
      ],
      "metadata": {
        "id": "9TlzqlFIx9s8",
        "outputId": "3ec662a2-1cb9-4b87-a19e-4d190ff562ee",
        "colab": {
          "base_uri": "https://localhost:8080/",
          "height": 296
        }
      },
      "execution_count": 38,
      "outputs": [
        {
          "output_type": "stream",
          "name": "stdout",
          "text": [
            "5 5\n"
          ]
        },
        {
          "output_type": "display_data",
          "data": {
            "text/plain": [
              "<Figure size 432x288 with 1 Axes>"
            ],
            "image/png": "[encoded data removed]"
          },
          "metadata": {
            "needs_background": "light"
          }
        }
      ]
    }
  ],
  "metadata": {
    "colab": {
      "collapsed_sections": [],
      "name": "Te damos la bienvenida a Colaboratory",
      "toc_visible": true,
      "provenance": [],
      "include_colab_link": true
    },
    "kernelspec": {
      "display_name": "Python 3",
      "name": "python3"
    }
  },
  "nbformat": 4,
  "nbformat_minor": 0
}