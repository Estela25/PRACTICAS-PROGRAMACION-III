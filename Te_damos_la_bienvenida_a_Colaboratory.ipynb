{
  "cells": [
    {
      "cell_type": "markdown",
      "metadata": {
        "id": "view-in-github",
        "colab_type": "text"
      },
      "source": [
        "<a href=\"https://colab.research.google.com/github/Estela25/PRACTICAS-PROGRAMACION-III/blob/main/Te_damos_la_bienvenida_a_Colaboratory.ipynb\" target=\"_parent\"><img src=\"https://colab.research.google.com/assets/colab-badge.svg\" alt=\"Open In Colab\"/></a>"
      ]
    },
    {
      "cell_type": "code",
      "source": [
        "print(\"hola Mundo\", \"Bienvenidos a Programacion Computacional III, con Python\")\n",
        "print(\"Mi nombre es: \", \"Katerin Orellana\")"
      ],
      "metadata": {
        "id": "g5C41xPZStHR",
        "outputId": "957f1b66-ade9-4a2a-f375-e045a4131ae9",
        "colab": {
          "base_uri": "https://localhost:8080/"
        }
      },
      "execution_count": null,
      "outputs": [
        {
          "output_type": "stream",
          "name": "stdout",
          "text": [
            "hola Mundo Bienvenidos a Programacion Computacional III, con Python\n",
            "Mi nombre es:  Katerin Orellana\n"
          ]
        }
      ]
    },
    {
      "cell_type": "code",
      "source": [
        "nombre = \"Katerin Orellana\"\n",
        "print(\"Hola \", nombre, type(nombre))\n",
        "\n",
        "nombre = 18\n",
        "print(\"Tu edad es: \", nombre + 2, type(nombre))"
      ],
      "metadata": {
        "id": "WE8Z5_jKTLyO",
        "outputId": "d2272803-1784-447a-f1c6-2b653338d8cd",
        "colab": {
          "base_uri": "https://localhost:8080/"
        }
      },
      "execution_count": null,
      "outputs": [
        {
          "output_type": "stream",
          "name": "stdout",
          "text": [
            "Hola  Katerin Orellana <class 'str'>\n",
            "Tu edad es:  20 <class 'int'>\n"
          ]
        }
      ]
    },
    {
      "cell_type": "code",
      "source": [
        "nombre = \"Katerin Orellana\"\n",
        "print(\"Tu nombre es: \", nombre, \"Longitud de tu Nombre: \", len(nombre), \"Iniciales: \", nombre[0],nombre[5])"
      ],
      "metadata": {
        "id": "a3DrJCObTYaq",
        "outputId": "252e6406-b02e-4d11-ebf8-17a91e7f1abc",
        "colab": {
          "base_uri": "https://localhost:8080/"
        }
      },
      "execution_count": null,
      "outputs": [
        {
          "output_type": "stream",
          "name": "stdout",
          "text": [
            "Tu nombre es:  Katerin Orellana Longitud de tu Nombre:  16 Iniciales:  K i\n"
          ]
        }
      ]
    },
    {
      "cell_type": "code",
      "source": [
        "num1 = 5\n",
        "num2 = 4.6\n",
        "resp = num1 + num2\n",
        "print(\"La suma de num1: \", num1 , \" + num2: \", num2, \"es igual a: \", resp)"
      ],
      "metadata": {
        "id": "OgilNaBmTcuz",
        "outputId": "9078915f-75c2-46f0-d6d2-836faa19315e",
        "colab": {
          "base_uri": "https://localhost:8080/"
        }
      },
      "execution_count": null,
      "outputs": [
        {
          "output_type": "stream",
          "name": "stdout",
          "text": [
            "La suma de num1:  5  + num2:  4.6 es igual a:  9.6\n"
          ]
        }
      ]
    },
    {
      "cell_type": "code",
      "source": [
        "num1 = float(input(\"Ingrese un numero entero: \"))\n",
        "num2 = float(input(\"Ingrese otro Num decimal: \"))\n",
        "resp = num1 + num2\n",
        "print(\"SUma\", resp, type(resp))"
      ],
      "metadata": {
        "id": "i6dnP7BpTnxD",
        "outputId": "e2fafdfc-f241-4626-f146-f7c984285aed",
        "colab": {
          "base_uri": "https://localhost:8080/"
        }
      },
      "execution_count": null,
      "outputs": [
        {
          "output_type": "stream",
          "name": "stdout",
          "text": [
            "Ingrese un numero entero: 7\n",
            "Ingrese otro Num decimal: 3\n",
            "SUma 10.0 <class 'float'>\n"
          ]
        }
      ]
    },
    {
      "cell_type": "code",
      "source": [
        "nombre = input(\"Dime tu nombre: \")\n",
        "print(nombre, type(nombre), len(nombre))\n",
        "\n",
        "print(nombre[0], nombre[1], nombre[2], nombre[3])"
      ],
      "metadata": {
        "id": "zzOyEqVTTwKy",
        "outputId": "a6a6cb00-c3fe-4cba-e987-ba278143e0cd",
        "colab": {
          "base_uri": "https://localhost:8080/"
        }
      },
      "execution_count": null,
      "outputs": [
        {
          "output_type": "stream",
          "name": "stdout",
          "text": [
            "Dime tu nombre: katerin\n",
            "katerin <class 'str'> 7\n",
            "k a t e\n"
          ]
        }
      ]
    },
    {
      "cell_type": "code",
      "source": [
        "resp = 4 - 4 * 6 / 2 + 1\n",
        "print(resp)"
      ],
      "metadata": {
        "id": "qCRcsJFFT05y",
        "outputId": "6146bf7b-a917-4300-9fac-f351f2453e4a",
        "colab": {
          "base_uri": "https://localhost:8080/"
        }
      },
      "execution_count": null,
      "outputs": [
        {
          "output_type": "stream",
          "name": "stdout",
          "text": [
            "-7.0\n"
          ]
        }
      ]
    },
    {
      "cell_type": "code",
      "source": [
        "gustaProgramacion = True #False\n",
        "print(\"Te gusta programar: \", gustaProgramacion)\n",
        "\n",
        "gustaDiseno = False\n",
        "print(\"Te gusta diseñar: \", gustaDiseno)"
      ],
      "metadata": {
        "id": "JLe8XWrmT4AB",
        "outputId": "97d57930-3ef9-44d8-ca5f-f9bbca4843b3",
        "colab": {
          "base_uri": "https://localhost:8080/"
        }
      },
      "execution_count": null,
      "outputs": [
        {
          "output_type": "stream",
          "name": "stdout",
          "text": [
            "Te gusta programar:  True\n",
            "Te gusta diseñar:  False\n"
          ]
        }
      ]
    },
    {
      "cell_type": "code",
      "source": [
        "def suma(num1, num2):\n",
        "  return num1 + num2\n",
        "print(\"La suma de 5 + 7 = \", suma(5,7))"
      ],
      "metadata": {
        "id": "z09T9x8lT5Le",
        "outputId": "44e9f26a-a567-4306-dc61-e75b15ba30cf",
        "colab": {
          "base_uri": "https://localhost:8080/"
        }
      },
      "execution_count": null,
      "outputs": [
        {
          "output_type": "stream",
          "name": "stdout",
          "text": [
            "La suma de 5 + 7 =  12\n"
          ]
        }
      ]
    },
    {
      "cell_type": "code",
      "source": [
        "def suma(num1, num2):\n",
        "  return num1 + num2\n",
        "num1 = float(input(\"Dime un numero: \"))\n",
        "num2 = float(input(\"Dime otro numero: \"))\n",
        "\n",
        "print(\"La suma es: \", suma(num1, num2))"
      ],
      "metadata": {
        "id": "Q4I3lOFLUCUE"
      },
      "execution_count": null,
      "outputs": []
    },
    {
      "cell_type": "code",
      "source": [
        "suma = lambda num1,num2: num1 + num2"
      ],
      "metadata": {
        "id": "ykgm0oBiUFbM"
      },
      "execution_count": null,
      "outputs": []
    },
    {
      "cell_type": "code",
      "source": [
        "num1 = float(input(\"Num1: \"))\n",
        "num2 = float(input(\"Num2: \"))\n",
        "print( \"La respuesta es: \", suma(num1, num2))"
      ],
      "metadata": {
        "id": "KwKpXqy-UKz-"
      },
      "execution_count": null,
      "outputs": []
    },
    {
      "cell_type": "code",
      "source": [
        "lista = [2,7,8,6,9]"
      ],
      "metadata": {
        "id": "NebLm6FxULpY"
      },
      "execution_count": null,
      "outputs": []
    },
    {
      "cell_type": "code",
      "source": [
        "cuadrado = lambda num: num**2"
      ],
      "metadata": {
        "id": "xigiudxIUPP4"
      },
      "execution_count": null,
      "outputs": []
    },
    {
      "cell_type": "code",
      "source": [
        "print( type(cuadrado) )"
      ],
      "metadata": {
        "id": "VJ-pez1KUSBK"
      },
      "execution_count": null,
      "outputs": []
    },
    {
      "cell_type": "code",
      "source": [
        "cubo  = lambda num: num**3"
      ],
      "metadata": {
        "id": "8jK3Pdn0UUsB"
      },
      "execution_count": null,
      "outputs": []
    },
    {
      "cell_type": "code",
      "source": [
        "potencia = lambda num, n: num**n"
      ],
      "metadata": {
        "id": "24CHIcbjUYW3"
      },
      "execution_count": null,
      "outputs": []
    },
    {
      "cell_type": "code",
      "source": [
        "print(\"Lista: \", lista, \" al cuadrado: \", list( map(cuadrado, lista) ), \" al cubo: \", list(map(cubo, lista)) )"
      ],
      "metadata": {
        "id": "OeJUTeV4UalA"
      },
      "execution_count": null,
      "outputs": []
    },
    {
      "cell_type": "code",
      "source": [
        "print( \"2 al cubo es: \", potencia(4, 5) )"
      ],
      "metadata": {
        "id": "fkQUdaL9Udq8"
      },
      "execution_count": null,
      "outputs": []
    },
    {
      "cell_type": "code",
      "source": [
        "print(\"Lista Original: \", lista, \" al cubo: \", list(map(lambda num: num**3, lista)) )"
      ],
      "metadata": {
        "id": "tiIm7xIeUgj9"
      },
      "execution_count": null,
      "outputs": []
    },
    {
      "cell_type": "code",
      "source": [
        "fpares = lambda num: num%2==0 # %=> Modulo=> devuelve el residuo de una division 5/2 = 1=>residuo"
      ],
      "metadata": {
        "id": "XVG7hKErUi5w"
      },
      "execution_count": null,
      "outputs": []
    },
    {
      "cell_type": "code",
      "source": [
        "fimpares = lambda num: num%2!=0"
      ],
      "metadata": {
        "id": "TnJGcugGUltX"
      },
      "execution_count": null,
      "outputs": []
    },
    {
      "cell_type": "code",
      "source": [
        "print(\"Lista original: \", lista, \" solo pares: \", list(filter(fpares, lista)), \" los impares: \", list(filter(fimpares, lista)) )"
      ],
      "metadata": {
        "id": "QtNHaNr_UolU",
        "colab": {
          "base_uri": "https://localhost:8080/",
          "height": 183
        },
        "outputId": "c08b9acb-3d11-462c-ba6e-6158aa957d0a"
      },
      "execution_count": null,
      "outputs": [
        {
          "output_type": "error",
          "ename": "NameError",
          "evalue": "ignored",
          "traceback": [
            "\u001b[0;31m---------------------------------------------------------------------------\u001b[0m",
            "\u001b[0;31mNameError\u001b[0m                                 Traceback (most recent call last)",
            "\u001b[0;32m<ipython-input-4-e4b9b6fa186e>\u001b[0m in \u001b[0;36m<module>\u001b[0;34m\u001b[0m\n\u001b[0;32m----> 1\u001b[0;31m \u001b[0mprint\u001b[0m\u001b[0;34m(\u001b[0m\u001b[0;34m\"Lista original: \"\u001b[0m\u001b[0;34m,\u001b[0m \u001b[0mlista\u001b[0m\u001b[0;34m,\u001b[0m \u001b[0;34m\" solo pares: \"\u001b[0m\u001b[0;34m,\u001b[0m \u001b[0mlist\u001b[0m\u001b[0;34m(\u001b[0m\u001b[0mfilter\u001b[0m\u001b[0;34m(\u001b[0m\u001b[0mfpares\u001b[0m\u001b[0;34m,\u001b[0m \u001b[0mlista\u001b[0m\u001b[0;34m)\u001b[0m\u001b[0;34m)\u001b[0m\u001b[0;34m,\u001b[0m \u001b[0;34m\" los impares: \"\u001b[0m\u001b[0;34m,\u001b[0m \u001b[0mlist\u001b[0m\u001b[0;34m(\u001b[0m\u001b[0mfilter\u001b[0m\u001b[0;34m(\u001b[0m\u001b[0mfimpares\u001b[0m\u001b[0;34m,\u001b[0m \u001b[0mlista\u001b[0m\u001b[0;34m)\u001b[0m\u001b[0;34m)\u001b[0m \u001b[0;34m)\u001b[0m\u001b[0;34m\u001b[0m\u001b[0;34m\u001b[0m\u001b[0m\n\u001b[0m",
            "\u001b[0;31mNameError\u001b[0m: name 'lista' is not defined"
          ]
        }
      ]
    },
    {
      "cell_type": "code",
      "source": [
        "suma = lambda a,b: a+b"
      ],
      "metadata": {
        "id": "G6YVZsBYUtpU"
      },
      "execution_count": null,
      "outputs": []
    },
    {
      "cell_type": "code",
      "source": [
        "#import functools"
      ],
      "metadata": {
        "id": "Os0PKBujUwIR"
      },
      "execution_count": null,
      "outputs": []
    },
    {
      "cell_type": "code",
      "source": [
        "import functools\n",
        "print(\"Lista original: \", lista, \"la suma: \", functools.reduce(suma, lista), \" media Aritmetica: \", functools.reduce(suma, lista)/len(lista) )"
      ],
      "metadata": {
        "id": "k-65T9DiUzJB"
      },
      "execution_count": null,
      "outputs": []
    },
    {
      "cell_type": "code",
      "source": [
        "c= 27"
      ],
      "metadata": {
        "id": "yMgjyVxkU21v"
      },
      "execution_count": null,
      "outputs": []
    },
    {
      "cell_type": "code",
      "source": [
        "def convertirCaF(c):\n",
        "  return c*9/5 + 32"
      ],
      "metadata": {
        "id": "FmiB4S_CU5J6"
      },
      "execution_count": null,
      "outputs": []
    },
    {
      "cell_type": "code",
      "source": [
        "print(\"Celsius a F: \", convertirCaF(c))"
      ],
      "metadata": {
        "id": "siCgqWKsU8oI"
      },
      "execution_count": null,
      "outputs": []
    },
    {
      "cell_type": "code",
      "source": [
        "gradosCiudades = [27, 30, 32, 35, 40, 45]"
      ],
      "metadata": {
        "id": "DFQM-nmBU-Tf"
      },
      "execution_count": null,
      "outputs": []
    },
    {
      "cell_type": "code",
      "source": [
        "print(gradosCiudades, \"Respuesta: \", list(map(convertirCaF, gradosCiudades)) )"
      ],
      "metadata": {
        "id": "jyFFzXVcVBFk"
      },
      "execution_count": null,
      "outputs": []
    },
    {
      "cell_type": "code",
      "source": [
        "gradosf = [80.6, 86, 89.6, 95, 104, 113]"
      ],
      "metadata": {
        "id": "QfT7l9LVVFjn"
      },
      "execution_count": null,
      "outputs": []
    },
    {
      "cell_type": "code",
      "source": [
        "def convertirFaC(f):\n",
        "  return (f-32) * 5/9"
      ],
      "metadata": {
        "id": "UQEc7LpEVGvN"
      },
      "execution_count": null,
      "outputs": []
    },
    {
      "cell_type": "code",
      "source": [
        "print(gradosf, \" Respuesta: \", list(map(convertirFaC, gradosf)) )"
      ],
      "metadata": {
        "id": "CeuTDgMFVI0D"
      },
      "execution_count": null,
      "outputs": []
    },
    {
      "cell_type": "code",
      "source": [
        "print(gradosf, \" Respuesta: \", list(map(lambda f: (f-32)*5/9, gradosf)) )"
      ],
      "metadata": {
        "id": "ZcJMVsloVLSS"
      },
      "execution_count": null,
      "outputs": []
    },
    {
      "cell_type": "markdown",
      "source": [
        "Trea:\n",
        "\n",
        "Hacer un algoritmo en python que convierta de grados Celsius a Kelvin y viceversa, usando funciones de usuario y lambda.\n",
        "\n",
        "Hacer un algoritmo en python que encuentre la Nota Final de Ciclo de una Materia en Particular usando funciones de usuario y lambda."
      ],
      "metadata": {
        "id": "ZvnDm-n9VRVO"
      }
    },
    {
      "cell_type": "code",
      "source": [
        "gradosCelcius = lambda GC: GC+273.15\n",
        "\n",
        "GC = float(input(\"Grados celcius a convertir \"))\n",
        "\n",
        "print(\"Celcius a Kelvin: \", gradosCelcius(GC))"
      ],
      "metadata": {
        "id": "hEe-0TqIV7ZZ"
      },
      "execution_count": null,
      "outputs": []
    },
    {
      "cell_type": "code",
      "source": [
        "kelvin = lambda GK: GK-273.15\n",
        "\n",
        "GK = float(input(\"Grados Kelvin a convertir \"))\n",
        "\n",
        "print(\"kelvin a celsius: \",kelvin(GK))"
      ],
      "metadata": {
        "id": "fWvKwLRyWED3"
      },
      "execution_count": null,
      "outputs": []
    },
    {
      "cell_type": "code",
      "source": [
        "edades = (2,5,12,18,65,100) #La tupl es inmutable, es decir, no podemos cambiar su valor y se declara con parenteis pero se usa con corchetes\n",
        "print( edades, \"La edad de bebe es la mejor: \", edades[0] )\n",
        "\n",
        "#edades[0] = 1, es inmutable, no se puede modificar"
      ],
      "metadata": {
        "id": "DZcg5LCHVTCA"
      },
      "execution_count": null,
      "outputs": []
    },
    {
      "cell_type": "code",
      "source": [
        "print(\"Edades: \", edades, \"Responsabilidades: \", tuple( filter(lambda e:e>=18, edades) ) )\n",
        "print(\"Edades: \", edades, \" Al cuadrado: \", tuple(map(lambda n:n**2, edades)) )"
      ],
      "metadata": {
        "id": "9qagbq8cVWsM"
      },
      "execution_count": null,
      "outputs": []
    },
    {
      "cell_type": "code",
      "source": [
        "notas = [6,8,10] #Listas, son mutables, es decir, podemos cambiar sus valores y se declaran y usan con corchetes\n",
        "print(\"Notas Originales: \", notas)\n",
        "\n",
        "notas[0] = 9\n",
        "print(\"Notas: \", notas)"
      ],
      "metadata": {
        "id": "PK0Bdyi9VZnf"
      },
      "execution_count": null,
      "outputs": []
    },
    {
      "cell_type": "code",
      "source": [
        "notasProgra = [\n",
        "    [9,8,10], #C1\n",
        "    [10,6,9], #C2\n",
        "    [10,9,10] #C3\n",
        "]\n",
        "print(notasProgra)"
      ],
      "metadata": {
        "id": "LMDcGJszVcRn"
      },
      "execution_count": null,
      "outputs": []
    },
    {
      "cell_type": "code",
      "source": [
        "print(\"Lab2 de C1\", notasProgra[0][1] )"
      ],
      "metadata": {
        "id": "faXpHU-kVgcM"
      },
      "execution_count": null,
      "outputs": []
    },
    {
      "cell_type": "code",
      "source": [
        "notas = [\n",
        "    [ #Progra III\n",
        "      [9,8,[8,9]], #C1\n",
        "      [10,6,9], #C2\n",
        "      [10,9,10] #C3\n",
        "    ], \n",
        "    [ #Estadistica\n",
        "      [5,7,10], #C1\n",
        "      [9,8,9],  #C2\n",
        "      [10,10,10]#C3\n",
        "    ],\n",
        "    [ #BD\n",
        "      [7,8,9],  #C1\n",
        "      [9,8,7],  #C2\n",
        "      [10,9,10],#C3\n",
        "    ], \n",
        "    [ #Ingles\n",
        "      [8,9,10], #C1\n",
        "      [9,10,9], #C2\n",
        "      [10,10,10]#C3\n",
        "    ],\n",
        "    [ #Circuito Digitales\n",
        "      [5,8,7], #C1\n",
        "      [8,7,9], #C2\n",
        "      [9,10,9] #C3\n",
        "    ]\n",
        "]\n",
        "import functools\n",
        "print( \"Lab1 de Estadistica en C1\", notas[1][0][0], \"NOta de Parcial C1 de Progra III: \",functools.reduce(lambda a,b: a+b, notas[0][0][2])/2 )"
      ],
      "metadata": {
        "id": "sRJuTtykVomL"
      },
      "execution_count": null,
      "outputs": []
    },
    {
      "cell_type": "markdown",
      "source": [
        "conversiones de monedas "
      ],
      "metadata": {
        "id": "8rm6JOadWwC2"
      }
    },
    {
      "cell_type": "code",
      "source": [
        "lempira = 24.66\n",
        "quetzal = 7.75\n",
        "pesoC = 4249.81\n",
        "cordoba = 35.99\n",
        "pesoM = 19.88\n",
        "\n",
        "conversion= [\"1.lempira\", \"2.quetzal\", \"3.pesoC\", \"4.cordoba\", \"5.pesoM\"]\n",
        "\n",
        "def converson():  \n",
        "  print(\"Escoja entre las opciones\")\n",
        "  print(\"Tipo de Conversiones\", conversion)\n",
        "  pregunta = int(input(\"Seleccione el numero de la moneda a convertir \"))\n",
        "\n",
        "  if pregunta == 1:\n",
        "     lempiraC = float(input(\"Ingrese la cantidad a convertir(L): \" ))\n",
        "     converL = lempira * lempiraC\n",
        "     print(\"La conversion de lempiras a dolares es: \", converL)\n",
        "\n",
        "  elif pregunta == 2:\n",
        "    quetzalC = float(input(\"Ingrese la Cantidad a converir: \"))\n",
        "    converQ = quetzal * quetzalC\n",
        "    print(\"La conversion de quetzales a dolares es: \", converQ)\n",
        "\n",
        "  elif pregunta == 3:\n",
        "    pesoCo = float(input(\"Ingrese la cantidad a convertir(Col): \" ))\n",
        "    converPcol = pesoC * pesoCo\n",
        "    print(\"La conversion de lempiras a dolares es: \", converPcol)\n",
        "\n",
        "  elif pregunta == 4:\n",
        "    cordovaC = float(input(\"Ingrese la cantidad a convertir(c): \" ))\n",
        "    converC = cordoba * cordovaC\n",
        "    print(\"La conversion de lempiras a dolares es: \", converC)\n",
        "\n",
        "  elif pregunta == 5:\n",
        "    pesoMC = float(input(\"Ingrese la cantidad a convertir(M): \" ))\n",
        "    converPM = pesoM * pesoMC\n",
        "    print(\"La conversion de lempiras a dolares es: \", converPM)\n",
        "\n",
        "  else:\n",
        "      print(\"seleccione moneda a convertir\")\n",
        "\n",
        "  return\n",
        "\n",
        "converson()\n",
        "opcion = 1\n",
        "\n",
        "while opcion == int(input(\"Dijite 1 para hacer otra conversion y 2 para salir\")):\n",
        "  converson()\n",
        "  \n",
        "else:\n",
        "    print(\"chao\")"
      ],
      "metadata": {
        "id": "MQ_81qvRVuaK"
      },
      "execution_count": null,
      "outputs": []
    },
    {
      "cell_type": "code",
      "source": [
        "divisas = [\"seleccione una divisa\", \"Dolares\",\n",
        "           \"Quezalez\",\"Lempiras\",\"Cordobas\",\n",
        "           \"Pesos CR\",\"Euros\",\"Colon SV\",\n",
        "           \"Yenes\",\"Soles Peruanos\"\n",
        "]\n",
        "valores = [0,1, 7.71, 24.51, 35.77, 664.64, 0.98, 8.75, 134.13, 3.84]"
      ],
      "metadata": {
        "id": "dcQQyywoWVoy"
      },
      "execution_count": null,
      "outputs": []
    },
    {
      "cell_type": "code",
      "source": [
        "def convertir(de, a, cantidad):\n",
        "  return valores[a] / valores[de] * cantidad"
      ],
      "metadata": {
        "id": "QKGCM40uWcHa"
      },
      "execution_count": null,
      "outputs": []
    },
    {
      "cell_type": "code",
      "source": [
        "print(\"***Menu***\")\n",
        "print(\"1.Dolares\")\n",
        "print(\"2.Quezalez\")\n",
        "print(\"3.Lempiras\")\n",
        "print(\"4.Cordobas\")\n",
        "print(\"5.Pesos CR\")\n",
        "print(\"6.Euros\")\n",
        "print(\"7.Colon SV\")\n",
        "print(\"8.Yenes\")\n",
        "print(\"9.Soles Peruanos\")"
      ],
      "metadata": {
        "id": "WBmuYnlZWfb_"
      },
      "execution_count": null,
      "outputs": []
    },
    {
      "cell_type": "code",
      "source": [
        "de = int(input(\"DE: \"))\n",
        "a = int(input(\"A:\"))\n",
        "cantidad = float(input(\"Cantidad:\"))\n",
        "\n",
        "print(divisas[de], \"a\", valores[a], \"es:\", convertir(de,a,cantidad))"
      ],
      "metadata": {
        "id": "51t8WjzXWiAh"
      },
      "execution_count": null,
      "outputs": []
    },
    {
      "cell_type": "markdown",
      "source": [
        "tarea semana 4"
      ],
      "metadata": {
        "id": "4Zw_jh4gW5rl"
      }
    },
    {
      "cell_type": "markdown",
      "source": [
        "1.Calcular sobre el sueldo las deducciones por ley ISSS (3%), AFP( 6.25%), ISR(Según tabla) e imprima el total deducciones \n",
        "y sueldo neto. (20%)"
      ],
      "metadata": {
        "id": "MYdWMV_6X7BM"
      }
    },
    {
      "cell_type": "code",
      "source": [
        "sueldo = float(input(\"Digite su sueldo: \"))\n",
        "\n",
        "deducciones = [3,6.25,27]\n",
        "\n",
        "\n",
        "\n",
        "isss = (sueldo*deducciones[0])/100\n",
        "\n",
        "afp = (sueldo*deducciones[1])/100\n",
        "\n",
        "isr = (sueldo*deducciones[2])/100\n",
        "\n",
        "totaldescuentos = isss+afp+isr\n",
        "\n",
        "total = sueldo-totaldescuentos\n",
        "\n",
        "print(\"**DESCUENTOS**\")\n",
        "\n",
        "print(\"ISSS: \",isss)\n",
        "\n",
        "print(\"AFP: \",afp)\n",
        "\n",
        "print(\"ISR: \",isr)\n",
        "\n",
        "print(\"**SUELDO TOTAL**\")\n",
        "\n",
        "print(\"Sueldo Neto: \", total)"
      ],
      "metadata": {
        "id": "M4JMMkI1X8j6",
        "colab": {
          "base_uri": "https://localhost:8080/"
        },
        "outputId": "6b57404d-13b6-4b29-9403-79497640e0c9"
      },
      "execution_count": null,
      "outputs": [
        {
          "output_type": "stream",
          "name": "stdout",
          "text": [
            "Digite su sueldo: 300\n",
            "**DESCUENTOS**\n",
            "ISSS:  9.0\n",
            "AFP:  18.75\n",
            "ISR:  81.0\n",
            "**SUELDO TOTAL**\n",
            "Sueldo Neto:  191.25\n"
          ]
        }
      ]
    },
    {
      "cell_type": "markdown",
      "source": [
        "2.Calcular el valor a pagar según el número de metros consumidos de agua potable (Ver tabla en la siguiente diapositiva). \n",
        "(20%)"
      ],
      "metadata": {
        "id": "-DjR6nhBaxa8"
      }
    },
    {
      "cell_type": "code",
      "source": [
        "consumo = int(input(\"Dijite su consumo de agua:  \"))\n",
        "\n",
        "tarfaFija = 6\n",
        "\n",
        "\n",
        "\n",
        "if consumo <= 18:\n",
        "\n",
        "  print(\"Su Tarifa es: $\",tarfaFija)\n",
        "\n",
        "elif consumo >= 19:\n",
        "\n",
        "  total = (consumo - 18)*0.45+tarfaFija\n",
        "\n",
        "  print(\"Su tarifa es: $\",total)\n",
        "\n",
        "elif consumo >= 29:\n",
        "\n",
        "  total2 = (consumo - 28)*0.65+tarfaFija\n",
        "\n",
        "  print(\"Su tarifa es: $\",total2)\n",
        "\n",
        "else:\n",
        "\n",
        "  print(\"Dijitos no validos\")\n"
      ],
      "metadata": {
        "colab": {
          "base_uri": "https://localhost:8080/"
        },
        "id": "pAdMUF8MrcNA",
        "outputId": "41ffe38b-56a7-4727-dd2d-22c08a2026cd"
      },
      "execution_count": null,
      "outputs": [
        {
          "output_type": "stream",
          "name": "stdout",
          "text": [
            "Dijite el valor de consumo del agua:  26\n",
            "Su tarifa es: $ 9.6\n"
          ]
        }
      ]
    },
    {
      "cell_type": "markdown",
      "source": [
        "3. Desarrolle la tabla de meses acumulados a n meses. Si puede encontrar la formula matemática para evitar ciclos. "
      ],
      "metadata": {
        "id": "XcDZ09h_alM9"
      }
    },
    {
      "cell_type": "code",
      "source": [
        "def suman(meses):\n",
        "  k = meses\n",
        "  f = k * (k + 1) / 2\n",
        "  t = f\n",
        "  print(\"Meses:\", k, \"Acumulados a pagar:\",t)\n",
        "\n",
        "meses =int(input(\"Digite meses a pagar:\"))\n",
        "\n",
        "suman(meses)"
      ],
      "metadata": {
        "id": "MqQY1il7asAF",
        "outputId": "405abc30-7d02-4520-9d26-8b3e5b99b4e9",
        "colab": {
          "base_uri": "https://localhost:8080/"
        }
      },
      "execution_count": null,
      "outputs": [
        {
          "output_type": "stream",
          "name": "stdout",
          "text": [
            "Digite meses a pagar:10\n",
            "Meses: 10 Acumulados a pagar: 55.0\n"
          ]
        }
      ]
    },
    {
      "cell_type": "markdown",
      "source": [
        "4. Conversores: (40%) (10 ítems como mínimo por cada uno)\n",
        "• Monedas (Resuelto en clases)\n",
        "• Longitud\n",
        "• Masa\n",
        "• Almacenamiento\n",
        "• Tiempo \n",
        "• Volumen\n",
        "• Área"
      ],
      "metadata": {
        "id": "IaPTu4MmxyFc"
      }
    },
    {
      "cell_type": "code",
      "source": [
        "def convertir(conversor, de, a, cantidad):\n",
        "  return valores[conversor][a] / valores[conversor][de] * cantidad"
      ],
      "metadata": {
        "id": "HlNSpioSx1FU"
      },
      "execution_count": 1,
      "outputs": []
    },
    {
      "cell_type": "code",
      "source": [
        "etiquetas = [\n",
        "[],\n",
        "[\"seleccione una divisa\", \"1. Dolares\",\n",
        "           \"2. Quezalez\",\"3. Lempiras\",\"4. Cordobas\",\n",
        "           \"5. Pesos CR\",\"6. Euros\",\"7. Colon SV\",\n",
        "           \"8. Yenes\",\"9. Soles Peruanos\", \"10. Peso M\"\n",
        "], #Divisas \n",
        "\n",
        "[\"Seleccione una opcion\", \"1. Metros\",\"2. Milimetros\", \"3. Centimetros\",\n",
        " \"4. Pie\", \"5. Varas\", \"6. Yardas\", \"7. Km\", \"8. Millas\", \"9. Decimetros\", \"10. Nanometro\"\n",
        "], #Longitud\n",
        "\n",
        "[\"Seleccione una opcion\", \"1. Gigabyte\", \". Megabyte\", \"3. Kilobyte\",\"4. Terabyte\",\n",
        " \"5. Petabyte\",\"6. Tebibyte\",\"7. Kibibyte\",\"8. Gibibyte\",\"9. Byte\",\"10. Tetibyte\"\n",
        "], #Almacenamiento\n",
        "[\"Seleccione una opcion\", \"1. Kilogramo\",\"2. Tonelada\", \"3. Centigramo\", \"4. Gramo\", \n",
        " \"5. Microgramo\", \"6. Miligramo\", \"7. Onza\", \"8. Libra\", \"9. Stone\", \"10. Tonelada corta\"\n",
        "], #Masa\n",
        "[\"Seleccione una opcion\",\"1. Siglo\", \"2. Decada\", \"3. Mes\", \"4. Dia\", \"5. Hora\", \"6. Año natural\", \"7. semana\",\n",
        "  \"8. Segundo\",\"9. Milisegundos\",\"10. Minuto\"\n",
        "], #Tiempo\n",
        "[\"Seleccione una opcion\", \"1. Litro\",\"2. Mililitro\", \"3. Metro cubico\", \"4. Cuarto imperial\",\n",
        "   \"5.Galon imperial\", \"6. Taza imperial\",\"7, Pinta imperial\",\"8. Cucharada imperial\",\"9. cucharadita imperial\",\"10. Onza liquda imperial\"\n",
        "], #Volumen \n",
        "[\"Seleccione la opcion\", \"1.Kilimetro Cuadrado\",\"2.Metro Cuadrado\",\"3.Milla Cuadrada\",\"4.Yarda Cuadrada\",\"5.Pie Cuadrado\",\n",
        "    \"6.Pulgada Cuadrada\",\"7.Hectarea\",\"8.Acre\",\"9.Tareas\",\"10.Manzanas\"\n",
        "]#Area,Manzanas,Tareas\n",
        "]\n",
        "valores = [[],\n",
        "    [0,1, 7.71, 24.51, 35.77, 664.64, 0.98, 8.75, 134.13, 3.84, 19.93],#Divisas\n",
        "    [0,1, 1000, 100, 3.28084, 1.20, 1.0936133, 0.001, 0.000621371,10,1000000000],#Longitudes \n",
        "     [0,1,1000, 1000000,1126,1024,9.0949e-13,1.126,1.049e+6,1.074e+9,1.126e+15],#Almacenamiento\n",
        "    [0,1,10,100,1200,5214,36500,876000,5.256e+7,3.154e+9,3.154e+12],#tiempo\n",
        "    [0,1,1000,1e+6,1e+8,1e+9,1e+12,1.102,157.5,22005,35270],#Masa\n",
        "    [0,1,1000,1e+6,220,879.9,1760,3520,35200,56310,168900],#Volumen\n",
        "    [0,1,1e+6,0.3861,1.1196e+6,1.076e+7,1.55e+9,100,247.1,1590.3307888,141.7]#Area,Manzanas,Tareas\n",
        "]"
      ],
      "metadata": {
        "id": "LiPhYKCJ2Fv8"
      },
      "execution_count": 2,
      "outputs": []
    },
    {
      "cell_type": "code",
      "source": [
        "print(\"**MENU** - CONVERSOR\")\n",
        "print(\"1. Divisas\")\n",
        "print(\"2. Longitud\")\n",
        "print(\"3. Almacenamiento\")\n",
        "print(\"4. Masa\")\n",
        "print(\"5. Tiempo\")\n",
        "print(\"6. Volumen\")\n",
        "print(\"7. Area,Manzanas,Tareas\")\n",
        "opcion= int(input(\"Convertir: \"))\n",
        "print(\"CONVERSOR ELEGIDO: \", etiquetas[opcion])\n",
        "de= int(input(\"DE: \"))\n",
        "a = int(input(\"A: \"))\n",
        "cantidad = int(input(\"cantidad: \"))\n",
        "print(\"conversor de \", etiquetas[opcion][de], \"a\", etiquetas[opcion][a], \"equivale a\",convertir(opcion,de,a,cantidad))"
      ],
      "metadata": {
        "id": "N7wqk7tJ-25j",
        "colab": {
          "base_uri": "https://localhost:8080/"
        },
        "outputId": "a1d4e38f-8262-41ec-daaf-2a3b9544a5c8"
      },
      "execution_count": 5,
      "outputs": [
        {
          "output_type": "stream",
          "name": "stdout",
          "text": [
            "**MENU** - CONVERSOR\n",
            "1. Divisas\n",
            "2. Longitud\n",
            "3. Almacenamiento\n",
            "4. Masa\n",
            "5. Tiempo\n",
            "6. Volumen\n",
            "7. Area,Manzanas,Tareas\n",
            "Convertir: 2\n",
            "CONVERSOR ELEGIDO:  ['Seleccione una opcion', '1. Metros', '2. Milimetros', '3. Centimetros', '4. Pie', '5. Varas', '6. Yardas', '7. Km', '8. Millas', '9. Decimetros', '10. Nanometro']\n",
            "DE: 1\n",
            "A: 3\n",
            "cantidad: 2\n",
            "conversor de  1. Metros a 3. Centimetros equivale a 200.0\n"
          ]
        }
      ]
    },
    {
      "cell_type": "markdown",
      "source": [
        "5. Realizar un conversor propio, donde especifique el valor de conversión: "
      ],
      "metadata": {
        "id": "DVaHOUAWt828"
      }
    },
    {
      "cell_type": "code",
      "source": [
        "def convertir(opcion,de, a, cantidad):\n",
        "  return valor[opcion][a] / valor[opcion][de] * cantidad"
      ],
      "metadata": {
        "id": "cXe1l2qit9wv"
      },
      "execution_count": 26,
      "outputs": []
    },
    {
      "cell_type": "code",
      "source": [
        "conversor_p = [\n",
        "  [],\n",
        "  [\"seleccione uno a convertir\", \"1. Unidades\",\"2. cajas\"],\n",
        "  [\"Selecione uno a convertir\"\"3. Saco\",\"4. Libra\"],\n",
        "  [\"Seleccione uno a convertir\" \"5. Fardo\", \"2. Unidades\"]\n",
        "]\n",
        "valor = [\n",
        "  [],\n",
        "  [0,1,25],\n",
        "  [0,1,50],\n",
        "  [0,1,5]\n",
        "]"
      ],
      "metadata": {
        "id": "oPk4qoTvuNg9"
      },
      "execution_count": 27,
      "outputs": []
    },
    {
      "cell_type": "code",
      "source": [
        "print(\"Menu\")\n",
        "print(\"1. CAJAS/UNIUDADES\")\n",
        "print(\"2. SACO/LIBRAS\")\n",
        "print(\"3. FARDO/UNIDADES\")\n",
        "opcion = int(input(\"OPCION: \"))\n",
        "de = int(input(\"DE: \"))\n",
        "a = int(input(\"A:\"))\n",
        "cantidad = float(input(\"cantidad: \"))\n",
        "\n",
        "print(conversor_p[opcion][de], \"a\", valor[opcion][a], \"es:\", convertir(opcion,de,a,cantidad))"
      ],
      "metadata": {
        "colab": {
          "base_uri": "https://localhost:8080/"
        },
        "id": "f8LI7rUevfRn",
        "outputId": "4914f982-eaf1-4dd7-e1aa-7e0b4ae58f01"
      },
      "execution_count": 29,
      "outputs": [
        {
          "output_type": "stream",
          "name": "stdout",
          "text": [
            "Menu\n",
            "1. CAJAS/UNIUDADES\n",
            "2. SACO/LIBRAS\n",
            "3. FARDO/UNIDADES\n",
            "OPCION: 1\n",
            "DE: 2\n",
            "A:1\n",
            "cantidad: 80\n",
            "2. cajas a 1 es: 3.2\n"
          ]
        }
      ]
    },
    {
      "cell_type": "markdown",
      "source": [
        "ESTRUCTURAS DE CONTROL"
      ],
      "metadata": {
        "id": "mMh2OJ_d74R3"
      }
    },
    {
      "cell_type": "code",
      "source": [
        "edad = int(input(\"Dime tu edad: \"))\n",
        "if(edad<=2):\n",
        "  print(\"Eres un bebe\")\n",
        "elif(edad<12):\n",
        "  print(\"Edad un niño\")\n",
        "elif (edad<18):\n",
        "  print(\"Eres un adolescente\")\n",
        "elif(edad<65):\n",
        "  print(\"Eres mayor de edad, tienes responsabilidades\")\n",
        "elif(edad<80):\n",
        "  print(\"Eres un adulto mayor\")\n",
        "else:\n",
        "  print(\"Larga vida\")"
      ],
      "metadata": {
        "id": "ofZNZ5HM733O"
      },
      "execution_count": null,
      "outputs": []
    },
    {
      "cell_type": "code",
      "source": [
        "ntabla = int(input(\"Tabla: \"))\n",
        "i=1\n",
        "while(i<=10):\n",
        "  print(ntabla, \"X\", i, \"=\", ntabla*i)\n",
        "  i+=1"
      ],
      "metadata": {
        "id": "Qija8HNK8C6m"
      },
      "execution_count": null,
      "outputs": []
    },
    {
      "cell_type": "code",
      "source": [
        "ntabla = int(input(\"Tabla: \"))\n",
        "for i in range(1, 11):\n",
        "  print(ntabla, \"X\", i, \"=\", ntabla*i)"
      ],
      "metadata": {
        "id": "X1tJB55U8HUc"
      },
      "execution_count": null,
      "outputs": []
    },
    {
      "cell_type": "code",
      "source": [
        "s=\"s\"\n",
        "while s==\"s\":\n",
        "  ntabla = int(input(\"Tabla: \"))\n",
        "  for i in range(1,11):\n",
        "    print(ntabla, \"X\", i, \"=\", ntabla*i)\n",
        "  s = input(\"Continuar s, cualquier otra tecla para salir \")\n",
        "print(\"Salistes...\")"
      ],
      "metadata": {
        "id": "cAfJJW5u8PY9",
        "outputId": "bbb12a74-023f-4866-a747-ebad0078dbd7",
        "colab": {
          "base_uri": "https://localhost:8080/",
          "height": 536
        }
      },
      "execution_count": null,
      "outputs": [
        {
          "metadata": {
            "tags": null
          },
          "name": "stdout",
          "output_type": "stream",
          "text": [
            "5 X 1 = 5\n",
            "5 X 2 = 10\n",
            "5 X 3 = 15\n",
            "5 X 4 = 20\n",
            "5 X 5 = 25\n",
            "5 X 6 = 30\n",
            "5 X 7 = 35\n",
            "5 X 8 = 40\n",
            "5 X 9 = 45\n",
            "5 X 10 = 50\n"
          ]
        },
        {
          "output_type": "error",
          "ename": "KeyboardInterrupt",
          "evalue": "ignored",
          "traceback": [
            "\u001b[0;31m---------------------------------------------------------------------------\u001b[0m",
            "\u001b[0;31mKeyboardInterrupt\u001b[0m                         Traceback (most recent call last)",
            "\u001b[0;32m<ipython-input-1-07199719a0f8>\u001b[0m in \u001b[0;36m<module>\u001b[0;34m\u001b[0m\n\u001b[1;32m      4\u001b[0m   \u001b[0;32mfor\u001b[0m \u001b[0mi\u001b[0m \u001b[0;32min\u001b[0m \u001b[0mrange\u001b[0m\u001b[0;34m(\u001b[0m\u001b[0;36m1\u001b[0m\u001b[0;34m,\u001b[0m\u001b[0;36m11\u001b[0m\u001b[0;34m)\u001b[0m\u001b[0;34m:\u001b[0m\u001b[0;34m\u001b[0m\u001b[0;34m\u001b[0m\u001b[0m\n\u001b[1;32m      5\u001b[0m     \u001b[0mprint\u001b[0m\u001b[0;34m(\u001b[0m\u001b[0mntabla\u001b[0m\u001b[0;34m,\u001b[0m \u001b[0;34m\"X\"\u001b[0m\u001b[0;34m,\u001b[0m \u001b[0mi\u001b[0m\u001b[0;34m,\u001b[0m \u001b[0;34m\"=\"\u001b[0m\u001b[0;34m,\u001b[0m \u001b[0mntabla\u001b[0m\u001b[0;34m*\u001b[0m\u001b[0mi\u001b[0m\u001b[0;34m)\u001b[0m\u001b[0;34m\u001b[0m\u001b[0;34m\u001b[0m\u001b[0m\n\u001b[0;32m----> 6\u001b[0;31m   \u001b[0ms\u001b[0m \u001b[0;34m=\u001b[0m \u001b[0minput\u001b[0m\u001b[0;34m(\u001b[0m\u001b[0;34m\"Continuar s, cualquier otra tecla para salir \"\u001b[0m\u001b[0;34m)\u001b[0m\u001b[0;34m\u001b[0m\u001b[0;34m\u001b[0m\u001b[0m\n\u001b[0m\u001b[1;32m      7\u001b[0m \u001b[0mprint\u001b[0m\u001b[0;34m(\u001b[0m\u001b[0;34m\"Salistes...\"\u001b[0m\u001b[0;34m)\u001b[0m\u001b[0;34m\u001b[0m\u001b[0;34m\u001b[0m\u001b[0m\n",
            "\u001b[0;32m/usr/local/lib/python3.7/dist-packages/ipykernel/kernelbase.py\u001b[0m in \u001b[0;36mraw_input\u001b[0;34m(self, prompt)\u001b[0m\n\u001b[1;32m    861\u001b[0m             \u001b[0mself\u001b[0m\u001b[0;34m.\u001b[0m\u001b[0m_parent_ident\u001b[0m\u001b[0;34m,\u001b[0m\u001b[0;34m\u001b[0m\u001b[0;34m\u001b[0m\u001b[0m\n\u001b[1;32m    862\u001b[0m             \u001b[0mself\u001b[0m\u001b[0;34m.\u001b[0m\u001b[0m_parent_header\u001b[0m\u001b[0;34m,\u001b[0m\u001b[0;34m\u001b[0m\u001b[0;34m\u001b[0m\u001b[0m\n\u001b[0;32m--> 863\u001b[0;31m             \u001b[0mpassword\u001b[0m\u001b[0;34m=\u001b[0m\u001b[0;32mFalse\u001b[0m\u001b[0;34m,\u001b[0m\u001b[0;34m\u001b[0m\u001b[0;34m\u001b[0m\u001b[0m\n\u001b[0m\u001b[1;32m    864\u001b[0m         )\n\u001b[1;32m    865\u001b[0m \u001b[0;34m\u001b[0m\u001b[0m\n",
            "\u001b[0;32m/usr/local/lib/python3.7/dist-packages/ipykernel/kernelbase.py\u001b[0m in \u001b[0;36m_input_request\u001b[0;34m(self, prompt, ident, parent, password)\u001b[0m\n\u001b[1;32m    902\u001b[0m             \u001b[0;32mexcept\u001b[0m \u001b[0mKeyboardInterrupt\u001b[0m\u001b[0;34m:\u001b[0m\u001b[0;34m\u001b[0m\u001b[0;34m\u001b[0m\u001b[0m\n\u001b[1;32m    903\u001b[0m                 \u001b[0;31m# re-raise KeyboardInterrupt, to truncate traceback\u001b[0m\u001b[0;34m\u001b[0m\u001b[0;34m\u001b[0m\u001b[0;34m\u001b[0m\u001b[0m\n\u001b[0;32m--> 904\u001b[0;31m                 \u001b[0;32mraise\u001b[0m \u001b[0mKeyboardInterrupt\u001b[0m\u001b[0;34m(\u001b[0m\u001b[0;34m\"Interrupted by user\"\u001b[0m\u001b[0;34m)\u001b[0m \u001b[0;32mfrom\u001b[0m \u001b[0;32mNone\u001b[0m\u001b[0;34m\u001b[0m\u001b[0;34m\u001b[0m\u001b[0m\n\u001b[0m\u001b[1;32m    905\u001b[0m             \u001b[0;32mexcept\u001b[0m \u001b[0mException\u001b[0m \u001b[0;32mas\u001b[0m \u001b[0me\u001b[0m\u001b[0;34m:\u001b[0m\u001b[0;34m\u001b[0m\u001b[0;34m\u001b[0m\u001b[0m\n\u001b[1;32m    906\u001b[0m                 \u001b[0mself\u001b[0m\u001b[0;34m.\u001b[0m\u001b[0mlog\u001b[0m\u001b[0;34m.\u001b[0m\u001b[0mwarning\u001b[0m\u001b[0;34m(\u001b[0m\u001b[0;34m\"Invalid Message:\"\u001b[0m\u001b[0;34m,\u001b[0m \u001b[0mexc_info\u001b[0m\u001b[0;34m=\u001b[0m\u001b[0;32mTrue\u001b[0m\u001b[0;34m)\u001b[0m\u001b[0;34m\u001b[0m\u001b[0;34m\u001b[0m\u001b[0m\n",
            "\u001b[0;31mKeyboardInterrupt\u001b[0m: Interrupted by user"
          ]
        }
      ]
    },
    {
      "cell_type": "code",
      "source": [
        "def convertir(conversor, de, a, cantidad):\n",
        "  return valores[conversor][a] / valores[conversor][de] * cantidad"
      ],
      "metadata": {
        "id": "9R1768KEalxY"
      },
      "execution_count": null,
      "outputs": []
    },
    {
      "cell_type": "code",
      "source": [
        "\n",
        "etiquetas = [\n",
        "[],\n",
        "[\"seleccione una divisa\", \"1. Dolares\",\n",
        "           \"2. Quezalez\",\"3. Lempiras\",\"4. Cordobas\",\n",
        "           \"5. Pesos CR\",\"6. Euros\",\"7. Colon SV\",\n",
        "           \"8. Yenes\",\"9. Soles Peruanos\"\n",
        "],\n",
        "[\"Seleccione una opcion\", \"1. Metros\",\"2. Milimetros\", \"3. Centimetros\", \"4. Pie\", \"5. Varas\", \"6. Yardas\", \"7. Km\", \"8. Millas\"],\n",
        "\n",
        "[\"Seleccione una opcion\", \"1. Gigabyte\", \". Megabyte\", \"3. Kilobite\"]\n",
        "]\n",
        "valores = [[],\n",
        "    [0,1, 7.71, 24.51, 35.77, 664.64, 0.98, 8.75, 134.13, 3.84],#Divisas\n",
        "    [0,1, 1000, 100, 3.28084, 1.20, 1.0936133, 0.001, 0.000621371],#Longitudes \n",
        "    [0,1,1000, 1000000]\n",
        "]"
      ],
      "metadata": {
        "id": "mHYACf7katZQ"
      },
      "execution_count": null,
      "outputs": []
    },
    {
      "cell_type": "code",
      "source": [
        "print(\"**MENU** - CONVERSOR\")\n",
        "print(\"1. Divisas\")\n",
        "print(\"2. Longitud\")\n",
        "opcion= int(input(\"Convertir: \"))\n",
        "print(\"CONVERSOR ELEGIDO: \", etiquetas[opcion])\n",
        "de= int(input(\"DE: \"))\n",
        "a = int(input(\"A: \"))\n",
        "cantidad = int(input(\"cantidad: \"))\n",
        "print(\"conversor de \". etiquetas[opcion][de], \"a\", etiquetas[opcion][a], \"equivale a\",convertir(opcion,de,a,cantidad))"
      ],
      "metadata": {
        "id": "Gck_MrEYdd-V",
        "outputId": "8f4b291b-9dcd-497f-9fa9-c933a714c2ef",
        "colab": {
          "base_uri": "https://localhost:8080/"
        }
      },
      "execution_count": null,
      "outputs": [
        {
          "output_type": "stream",
          "name": "stdout",
          "text": [
            "**MENU** - CONVERSOR\n",
            "1. Divisas\n",
            "2. Longitud\n"
          ]
        }
      ]
    }
  ],
  "metadata": {
    "colab": {
      "collapsed_sections": [],
      "name": "Te damos la bienvenida a Colaboratory",
      "provenance": [],
      "include_colab_link": true
    },
    "kernelspec": {
      "display_name": "Python 3",
      "name": "python3"
    }
  },
  "nbformat": 4,
  "nbformat_minor": 0
}